{
 "cells": [
  {
   "cell_type": "markdown",
   "id": "74375e40",
   "metadata": {},
   "source": [
    "# Importing library"
   ]
  },
  {
   "cell_type": "code",
   "execution_count": 7,
   "id": "16bdf38a",
   "metadata": {},
   "outputs": [],
   "source": [
    "import numpy as np "
   ]
  },
  {
   "cell_type": "markdown",
   "id": "5fe5c677",
   "metadata": {},
   "source": [
    "# Defining arrays"
   ]
  },
  {
   "cell_type": "code",
   "execution_count": 8,
   "id": "5b39261e",
   "metadata": {},
   "outputs": [
    {
     "name": "stdout",
     "output_type": "stream",
     "text": [
      "[ 1  2  3  4  5  6  7  8  9 10]\n"
     ]
    }
   ],
   "source": [
    "nary=np.array([1, 2, 3, 4, 5, 6, 7, 8,9, 10])\n",
    "print(nary)"
   ]
  },
  {
   "cell_type": "code",
   "execution_count": 9,
   "id": "85d4d669",
   "metadata": {},
   "outputs": [
    {
     "data": {
      "text/plain": [
       "array([ 2,  4,  6,  8, 10, 12, 14, 16, 18, 20])"
      ]
     },
     "execution_count": 9,
     "metadata": {},
     "output_type": "execute_result"
    }
   ],
   "source": [
    "nary*2"
   ]
  },
  {
   "cell_type": "code",
   "execution_count": 11,
   "id": "bd2b1ad4",
   "metadata": {},
   "outputs": [
    {
     "name": "stdout",
     "output_type": "stream",
     "text": [
      "[[ 1  2  3  4  5]\n",
      " [ 6  7  8  9 10]]\n"
     ]
    }
   ],
   "source": [
    "nd_2=np.array([[1, 2, 3, 4, 5], [6, 7, 8, 9, 10]])\n",
    "print(nd_2)"
   ]
  },
  {
   "cell_type": "code",
   "execution_count": null,
   "id": "c1cfa49b",
   "metadata": {},
   "outputs": [],
   "source": [
    "#Three dimension array\n",
    "nd_3=np.array([[[1, 2, 3, 4, 5], [6, 7, 8, 9, 10], [11, 12, 13, 14, 15]]])\n",
    "print(nd_3)"
   ]
  },
  {
   "cell_type": "markdown",
   "id": "6ebc92bb",
   "metadata": {},
   "source": [
    "# Using number dimension(ndim)"
   ]
  },
  {
   "cell_type": "code",
   "execution_count": 16,
   "id": "d932c731",
   "metadata": {},
   "outputs": [
    {
     "name": "stdout",
     "output_type": "stream",
     "text": [
      "1\n"
     ]
    }
   ],
   "source": [
    "print(nary.ndim)"
   ]
  },
  {
   "cell_type": "code",
   "execution_count": 18,
   "id": "88f87cdd",
   "metadata": {},
   "outputs": [
    {
     "name": "stdout",
     "output_type": "stream",
     "text": [
      "2\n"
     ]
    }
   ],
   "source": [
    "print(nd_2.ndim)"
   ]
  },
  {
   "cell_type": "code",
   "execution_count": 24,
   "id": "aab5b041",
   "metadata": {},
   "outputs": [
    {
     "name": "stdout",
     "output_type": "stream",
     "text": [
      "3\n"
     ]
    }
   ],
   "source": [
    "print(nd_3.ndim)"
   ]
  },
  {
   "cell_type": "code",
   "execution_count": 25,
   "id": "9cd734b7",
   "metadata": {},
   "outputs": [
    {
     "name": "stdout",
     "output_type": "stream",
     "text": [
      "[[[[[1 2 3 4 5]]]]]\n"
     ]
    }
   ],
   "source": [
    "nd_5=np.array([1, 2, 3, 4, 5], ndmin=5)\n",
    "print(nd_5)"
   ]
  },
  {
   "cell_type": "markdown",
   "id": "4482c808",
   "metadata": {},
   "source": [
    "# Calling/ Identifying objects using index"
   ]
  },
  {
   "cell_type": "code",
   "execution_count": 30,
   "id": "ecd847ae",
   "metadata": {},
   "outputs": [
    {
     "name": "stdout",
     "output_type": "stream",
     "text": [
      "5\n"
     ]
    }
   ],
   "source": [
    "print(nary[4])"
   ]
  },
  {
   "cell_type": "code",
   "execution_count": 34,
   "id": "ef236349",
   "metadata": {},
   "outputs": [
    {
     "name": "stdout",
     "output_type": "stream",
     "text": [
      "[28, 3]\n"
     ]
    }
   ],
   "source": [
    "print([nary[3]*nary[6], nary[4]-nary[1]])"
   ]
  },
  {
   "cell_type": "code",
   "execution_count": 35,
   "id": "c6613aa4",
   "metadata": {},
   "outputs": [
    {
     "name": "stdout",
     "output_type": "stream",
     "text": [
      "8\n"
     ]
    }
   ],
   "source": [
    "print(nd_2[1,2])"
   ]
  },
  {
   "cell_type": "code",
   "execution_count": 43,
   "id": "9c4ad92d",
   "metadata": {},
   "outputs": [
    {
     "name": "stdout",
     "output_type": "stream",
     "text": [
      "11\n"
     ]
    }
   ],
   "source": [
    "print(nd_3[0,2,0])"
   ]
  },
  {
   "cell_type": "markdown",
   "id": "ce13fd77",
   "metadata": {},
   "source": [
    "# Negative indexing"
   ]
  },
  {
   "cell_type": "code",
   "execution_count": 45,
   "id": "d6132ac3",
   "metadata": {},
   "outputs": [
    {
     "name": "stdout",
     "output_type": "stream",
     "text": [
      "10\n"
     ]
    }
   ],
   "source": [
    "print(nary[-1])"
   ]
  },
  {
   "cell_type": "code",
   "execution_count": 46,
   "id": "0a486b34",
   "metadata": {},
   "outputs": [
    {
     "name": "stdout",
     "output_type": "stream",
     "text": [
      "3\n"
     ]
    }
   ],
   "source": [
    "print(nd_3[-1,0,2])"
   ]
  },
  {
   "cell_type": "markdown",
   "id": "b5ff6cba",
   "metadata": {},
   "source": [
    "# Slicing items in Variables/Elements"
   ]
  },
  {
   "cell_type": "code",
   "execution_count": 47,
   "id": "8ac5ae37",
   "metadata": {},
   "outputs": [
    {
     "name": "stdout",
     "output_type": "stream",
     "text": [
      "[2 3 4]\n"
     ]
    }
   ],
   "source": [
    "print(nary[1:4])"
   ]
  },
  {
   "cell_type": "code",
   "execution_count": 49,
   "id": "e34766a7",
   "metadata": {},
   "outputs": [
    {
     "name": "stdout",
     "output_type": "stream",
     "text": [
      "[ 5  6  7  8  9 10]\n"
     ]
    }
   ],
   "source": [
    "print(nary[4:])"
   ]
  },
  {
   "cell_type": "code",
   "execution_count": 54,
   "id": "e88e7ce5",
   "metadata": {},
   "outputs": [
    {
     "name": "stdout",
     "output_type": "stream",
     "text": [
      "[1 2 3 4 5 6 7]\n"
     ]
    }
   ],
   "source": [
    "print(nary[:7]) "
   ]
  },
  {
   "cell_type": "code",
   "execution_count": 58,
   "id": "e853cb8e",
   "metadata": {},
   "outputs": [
    {
     "name": "stdout",
     "output_type": "stream",
     "text": [
      "[2 3 4]\n"
     ]
    }
   ],
   "source": [
    "print(nd_2[0,1:4])"
   ]
  },
  {
   "cell_type": "code",
   "execution_count": 59,
   "id": "e1544a38",
   "metadata": {},
   "outputs": [
    {
     "name": "stdout",
     "output_type": "stream",
     "text": [
      "[7 8 9]\n"
     ]
    }
   ],
   "source": [
    "print(nd_3[0,1,1:4])"
   ]
  }
 ],
 "metadata": {
  "kernelspec": {
   "display_name": "Python 3 (ipykernel)",
   "language": "python",
   "name": "python3"
  },
  "language_info": {
   "codemirror_mode": {
    "name": "ipython",
    "version": 3
   },
   "file_extension": ".py",
   "mimetype": "text/x-python",
   "name": "python",
   "nbconvert_exporter": "python",
   "pygments_lexer": "ipython3",
   "version": "3.9.7"
  }
 },
 "nbformat": 4,
 "nbformat_minor": 5
}
